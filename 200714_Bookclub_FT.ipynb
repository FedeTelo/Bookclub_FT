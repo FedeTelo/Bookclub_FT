{
 "cells": [
  {
   "cell_type": "code",
   "execution_count": 1,
   "metadata": {},
   "outputs": [
    {
     "output_type": "execute_result",
     "data": {
      "text/plain": [
       "   Absolute time  Trace 140  Trace 144  Trace 228  Trace 112  Trace 156  \\\n",
       "0              0   6.929464   7.092237  10.564115   7.390811   7.918076   \n",
       "1              1   6.964351   7.087566   7.073328   7.455803   7.992908   \n",
       "2              2   6.973203   7.112322        NaN   7.476384   8.000161   \n",
       "3              3   6.974659   7.113944        NaN   7.565403   8.020098   \n",
       "4              4   6.941163   7.074621        NaN   7.707350   8.039294   \n",
       "\n",
       "   Trace 74  Trace 182  Trace 211  Trace 183  ...  Trace 94  Trace 32  \\\n",
       "0  7.718916   6.878654   6.860854   6.730455  ...  6.924083  7.485680   \n",
       "1  7.742458   6.760736   6.732841   6.631008  ...       NaN  7.550891   \n",
       "2  7.727140   6.737988   6.712292   6.654981  ...       NaN  7.462183   \n",
       "3  7.754188   6.721016   6.708002   6.652426  ...       NaN  7.442832   \n",
       "4  7.699274   6.723001   6.704089   6.658320  ...       NaN  7.402727   \n",
       "\n",
       "   Trace 42  Trace 164  Trace 220  Trace 138  Trace 246  Trace 273  Trace 134  \\\n",
       "0  7.319573   8.584515        NaN   7.106804   7.638743   6.723999   6.975159   \n",
       "1  7.379805   8.356564        NaN   7.150409   7.580169   6.621912   7.026879   \n",
       "2  7.359711   8.015434        NaN   7.153518   7.616949   6.604996   7.004322   \n",
       "3  7.393226   7.195707   7.488058   7.145274   7.645913   6.602931   6.994892   \n",
       "4  7.320059   7.187252   7.436932   7.120495   7.675338   6.601367   6.961015   \n",
       "\n",
       "   Trace 205  \n",
       "0   6.800940  \n",
       "1   6.684783  \n",
       "2   6.686730  \n",
       "3   6.687513  \n",
       "4   6.686474  \n",
       "\n",
       "[5 rows x 283 columns]"
      ],
      "text/html": "<div>\n<style scoped>\n    .dataframe tbody tr th:only-of-type {\n        vertical-align: middle;\n    }\n\n    .dataframe tbody tr th {\n        vertical-align: top;\n    }\n\n    .dataframe thead th {\n        text-align: right;\n    }\n</style>\n<table border=\"1\" class=\"dataframe\">\n  <thead>\n    <tr style=\"text-align: right;\">\n      <th></th>\n      <th>Absolute time</th>\n      <th>Trace 140</th>\n      <th>Trace 144</th>\n      <th>Trace 228</th>\n      <th>Trace 112</th>\n      <th>Trace 156</th>\n      <th>Trace 74</th>\n      <th>Trace 182</th>\n      <th>Trace 211</th>\n      <th>Trace 183</th>\n      <th>...</th>\n      <th>Trace 94</th>\n      <th>Trace 32</th>\n      <th>Trace 42</th>\n      <th>Trace 164</th>\n      <th>Trace 220</th>\n      <th>Trace 138</th>\n      <th>Trace 246</th>\n      <th>Trace 273</th>\n      <th>Trace 134</th>\n      <th>Trace 205</th>\n    </tr>\n  </thead>\n  <tbody>\n    <tr>\n      <th>0</th>\n      <td>0</td>\n      <td>6.929464</td>\n      <td>7.092237</td>\n      <td>10.564115</td>\n      <td>7.390811</td>\n      <td>7.918076</td>\n      <td>7.718916</td>\n      <td>6.878654</td>\n      <td>6.860854</td>\n      <td>6.730455</td>\n      <td>...</td>\n      <td>6.924083</td>\n      <td>7.485680</td>\n      <td>7.319573</td>\n      <td>8.584515</td>\n      <td>NaN</td>\n      <td>7.106804</td>\n      <td>7.638743</td>\n      <td>6.723999</td>\n      <td>6.975159</td>\n      <td>6.800940</td>\n    </tr>\n    <tr>\n      <th>1</th>\n      <td>1</td>\n      <td>6.964351</td>\n      <td>7.087566</td>\n      <td>7.073328</td>\n      <td>7.455803</td>\n      <td>7.992908</td>\n      <td>7.742458</td>\n      <td>6.760736</td>\n      <td>6.732841</td>\n      <td>6.631008</td>\n      <td>...</td>\n      <td>NaN</td>\n      <td>7.550891</td>\n      <td>7.379805</td>\n      <td>8.356564</td>\n      <td>NaN</td>\n      <td>7.150409</td>\n      <td>7.580169</td>\n      <td>6.621912</td>\n      <td>7.026879</td>\n      <td>6.684783</td>\n    </tr>\n    <tr>\n      <th>2</th>\n      <td>2</td>\n      <td>6.973203</td>\n      <td>7.112322</td>\n      <td>NaN</td>\n      <td>7.476384</td>\n      <td>8.000161</td>\n      <td>7.727140</td>\n      <td>6.737988</td>\n      <td>6.712292</td>\n      <td>6.654981</td>\n      <td>...</td>\n      <td>NaN</td>\n      <td>7.462183</td>\n      <td>7.359711</td>\n      <td>8.015434</td>\n      <td>NaN</td>\n      <td>7.153518</td>\n      <td>7.616949</td>\n      <td>6.604996</td>\n      <td>7.004322</td>\n      <td>6.686730</td>\n    </tr>\n    <tr>\n      <th>3</th>\n      <td>3</td>\n      <td>6.974659</td>\n      <td>7.113944</td>\n      <td>NaN</td>\n      <td>7.565403</td>\n      <td>8.020098</td>\n      <td>7.754188</td>\n      <td>6.721016</td>\n      <td>6.708002</td>\n      <td>6.652426</td>\n      <td>...</td>\n      <td>NaN</td>\n      <td>7.442832</td>\n      <td>7.393226</td>\n      <td>7.195707</td>\n      <td>7.488058</td>\n      <td>7.145274</td>\n      <td>7.645913</td>\n      <td>6.602931</td>\n      <td>6.994892</td>\n      <td>6.687513</td>\n    </tr>\n    <tr>\n      <th>4</th>\n      <td>4</td>\n      <td>6.941163</td>\n      <td>7.074621</td>\n      <td>NaN</td>\n      <td>7.707350</td>\n      <td>8.039294</td>\n      <td>7.699274</td>\n      <td>6.723001</td>\n      <td>6.704089</td>\n      <td>6.658320</td>\n      <td>...</td>\n      <td>NaN</td>\n      <td>7.402727</td>\n      <td>7.320059</td>\n      <td>7.187252</td>\n      <td>7.436932</td>\n      <td>7.120495</td>\n      <td>7.675338</td>\n      <td>6.601367</td>\n      <td>6.961015</td>\n      <td>6.686474</td>\n    </tr>\n  </tbody>\n</table>\n<p>5 rows × 283 columns</p>\n</div>"
     },
     "metadata": {},
     "execution_count": 1
    }
   ],
   "source": [
    "import pandas as pd\n",
    "\n",
    "# Import file from GitHub public repo\n",
    "url = input (\"Enter data URL:\")\n",
    "df = pd.read_csv(url, sep=\"\\t\")\n",
    "df.head()"
   ]
  },
  {
   "cell_type": "code",
   "execution_count": 2,
   "metadata": {},
   "outputs": [
    {
     "output_type": "execute_result",
     "data": {
      "text/plain": [
       "   Absolute time      trace     value\n",
       "0              0  Trace 140  6.929464\n",
       "1              1  Trace 140  6.964351\n",
       "2              2  Trace 140  6.973203\n",
       "3              3  Trace 140  6.974659\n",
       "4              4  Trace 140  6.941163"
      ],
      "text/html": "<div>\n<style scoped>\n    .dataframe tbody tr th:only-of-type {\n        vertical-align: middle;\n    }\n\n    .dataframe tbody tr th {\n        vertical-align: top;\n    }\n\n    .dataframe thead th {\n        text-align: right;\n    }\n</style>\n<table border=\"1\" class=\"dataframe\">\n  <thead>\n    <tr style=\"text-align: right;\">\n      <th></th>\n      <th>Absolute time</th>\n      <th>trace</th>\n      <th>value</th>\n    </tr>\n  </thead>\n  <tbody>\n    <tr>\n      <th>0</th>\n      <td>0</td>\n      <td>Trace 140</td>\n      <td>6.929464</td>\n    </tr>\n    <tr>\n      <th>1</th>\n      <td>1</td>\n      <td>Trace 140</td>\n      <td>6.964351</td>\n    </tr>\n    <tr>\n      <th>2</th>\n      <td>2</td>\n      <td>Trace 140</td>\n      <td>6.973203</td>\n    </tr>\n    <tr>\n      <th>3</th>\n      <td>3</td>\n      <td>Trace 140</td>\n      <td>6.974659</td>\n    </tr>\n    <tr>\n      <th>4</th>\n      <td>4</td>\n      <td>Trace 140</td>\n      <td>6.941163</td>\n    </tr>\n  </tbody>\n</table>\n</div>"
     },
     "metadata": {},
     "execution_count": 2
    }
   ],
   "source": [
    "# Use the Melt function to tidy the data\n",
    "df = pd.melt (df, id_vars =[\"Absolute time\"], value_vars =list(df.columns)[1:], var_name=\"trace\", value_name=\"value\")\n",
    "df.head()"
   ]
  },
  {
   "cell_type": "code",
   "execution_count": 3,
   "metadata": {},
   "outputs": [
    {
     "output_type": "execute_result",
     "data": {
      "text/plain": [
       "   timepoint      trace     value\n",
       "0          0  Trace 140  6.929464\n",
       "1          1  Trace 140  6.964351\n",
       "2          2  Trace 140  6.973203\n",
       "3          3  Trace 140  6.974659\n",
       "4          4  Trace 140  6.941163"
      ],
      "text/html": "<div>\n<style scoped>\n    .dataframe tbody tr th:only-of-type {\n        vertical-align: middle;\n    }\n\n    .dataframe tbody tr th {\n        vertical-align: top;\n    }\n\n    .dataframe thead th {\n        text-align: right;\n    }\n</style>\n<table border=\"1\" class=\"dataframe\">\n  <thead>\n    <tr style=\"text-align: right;\">\n      <th></th>\n      <th>timepoint</th>\n      <th>trace</th>\n      <th>value</th>\n    </tr>\n  </thead>\n  <tbody>\n    <tr>\n      <th>0</th>\n      <td>0</td>\n      <td>Trace 140</td>\n      <td>6.929464</td>\n    </tr>\n    <tr>\n      <th>1</th>\n      <td>1</td>\n      <td>Trace 140</td>\n      <td>6.964351</td>\n    </tr>\n    <tr>\n      <th>2</th>\n      <td>2</td>\n      <td>Trace 140</td>\n      <td>6.973203</td>\n    </tr>\n    <tr>\n      <th>3</th>\n      <td>3</td>\n      <td>Trace 140</td>\n      <td>6.974659</td>\n    </tr>\n    <tr>\n      <th>4</th>\n      <td>4</td>\n      <td>Trace 140</td>\n      <td>6.941163</td>\n    </tr>\n  </tbody>\n</table>\n</div>"
     },
     "metadata": {},
     "execution_count": 3
    }
   ],
   "source": [
    "# Rename columns\n",
    "df = df.rename(columns={\"Absolute time\": \"timepoint\"})\n",
    "df.head()"
   ]
  },
  {
   "cell_type": "code",
   "execution_count": 4,
   "metadata": {},
   "outputs": [
    {
     "output_type": "execute_result",
     "data": {
      "text/plain": [
       "   timepoint  trace     value\n",
       "0          0    140  6.929464\n",
       "1          1    140  6.964351\n",
       "2          2    140  6.973203\n",
       "3          3    140  6.974659\n",
       "4          4    140  6.941163"
      ],
      "text/html": "<div>\n<style scoped>\n    .dataframe tbody tr th:only-of-type {\n        vertical-align: middle;\n    }\n\n    .dataframe tbody tr th {\n        vertical-align: top;\n    }\n\n    .dataframe thead th {\n        text-align: right;\n    }\n</style>\n<table border=\"1\" class=\"dataframe\">\n  <thead>\n    <tr style=\"text-align: right;\">\n      <th></th>\n      <th>timepoint</th>\n      <th>trace</th>\n      <th>value</th>\n    </tr>\n  </thead>\n  <tbody>\n    <tr>\n      <th>0</th>\n      <td>0</td>\n      <td>140</td>\n      <td>6.929464</td>\n    </tr>\n    <tr>\n      <th>1</th>\n      <td>1</td>\n      <td>140</td>\n      <td>6.964351</td>\n    </tr>\n    <tr>\n      <th>2</th>\n      <td>2</td>\n      <td>140</td>\n      <td>6.973203</td>\n    </tr>\n    <tr>\n      <th>3</th>\n      <td>3</td>\n      <td>140</td>\n      <td>6.974659</td>\n    </tr>\n    <tr>\n      <th>4</th>\n      <td>4</td>\n      <td>140</td>\n      <td>6.941163</td>\n    </tr>\n  </tbody>\n</table>\n</div>"
     },
     "metadata": {},
     "execution_count": 4
    }
   ],
   "source": [
    "# remove Trace text from trace column\n",
    "df[\"trace\"] = df[\"trace\"].str.replace(r'Trace ', '').astype(int)\n",
    "df.head()"
   ]
  }
 ],
 "metadata": {
  "kernelspec": {
   "display_name": "Python 3",
   "language": "python",
   "name": "python3"
  }
 },
 "nbformat": 4,
 "nbformat_minor": 4
}